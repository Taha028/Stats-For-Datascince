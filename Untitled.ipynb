{
 "cells": [
  {
   "cell_type": "markdown",
   "metadata": {},
   "source": [
    "READ ME:\n",
    "\n",
    "This code first loads the stock price data into a pandas dataframe. Next, it calculates the trimmed mean of the \"Close\" column (representing the daily closing stock prices) by sorting the values and taking the mean of the middle portion after trimming off the top and bottom 5% of the data. Finally, it prints the trimmed mean.\n",
    "\n",
    "Note: This code assumes that the stock price data is stored in a CSV file with the following structure: \"Date, Open, High, Low, Close\". The \"Close\" column is used to calculate the trimmed mean."
   ]
  },
  {
   "cell_type": "code",
   "execution_count": 2,
   "metadata": {},
   "outputs": [
    {
     "data": {
      "text/html": [
       "<div>\n",
       "<style scoped>\n",
       "    .dataframe tbody tr th:only-of-type {\n",
       "        vertical-align: middle;\n",
       "    }\n",
       "\n",
       "    .dataframe tbody tr th {\n",
       "        vertical-align: top;\n",
       "    }\n",
       "\n",
       "    .dataframe thead th {\n",
       "        text-align: right;\n",
       "    }\n",
       "</style>\n",
       "<table border=\"1\" class=\"dataframe\">\n",
       "  <thead>\n",
       "    <tr style=\"text-align: right;\">\n",
       "      <th></th>\n",
       "      <th>Date</th>\n",
       "      <th>Open Price</th>\n",
       "      <th>High Price</th>\n",
       "      <th>Low Price</th>\n",
       "      <th>Close Price</th>\n",
       "      <th>Adj Close Price</th>\n",
       "      <th>Volume</th>\n",
       "    </tr>\n",
       "  </thead>\n",
       "  <tbody>\n",
       "    <tr>\n",
       "      <th>0</th>\n",
       "      <td>5/27/2014</td>\n",
       "      <td>87.982857</td>\n",
       "      <td>89.408569</td>\n",
       "      <td>87.947144</td>\n",
       "      <td>89.375717</td>\n",
       "      <td>80.948952</td>\n",
       "      <td>87216500</td>\n",
       "    </tr>\n",
       "    <tr>\n",
       "      <th>1</th>\n",
       "      <td>5/28/2014</td>\n",
       "      <td>89.431427</td>\n",
       "      <td>89.975716</td>\n",
       "      <td>89.111427</td>\n",
       "      <td>89.144287</td>\n",
       "      <td>80.739334</td>\n",
       "      <td>78870400</td>\n",
       "    </tr>\n",
       "    <tr>\n",
       "      <th>2</th>\n",
       "      <td>5/29/2014</td>\n",
       "      <td>89.692856</td>\n",
       "      <td>90.981430</td>\n",
       "      <td>89.681427</td>\n",
       "      <td>90.768570</td>\n",
       "      <td>82.210480</td>\n",
       "      <td>94118500</td>\n",
       "    </tr>\n",
       "    <tr>\n",
       "      <th>3</th>\n",
       "      <td>5/30/2014</td>\n",
       "      <td>91.139999</td>\n",
       "      <td>92.024284</td>\n",
       "      <td>89.842857</td>\n",
       "      <td>90.428574</td>\n",
       "      <td>81.902557</td>\n",
       "      <td>141005200</td>\n",
       "    </tr>\n",
       "    <tr>\n",
       "      <th>4</th>\n",
       "      <td>6/2/2014</td>\n",
       "      <td>90.565712</td>\n",
       "      <td>90.690002</td>\n",
       "      <td>88.928574</td>\n",
       "      <td>89.807144</td>\n",
       "      <td>81.339699</td>\n",
       "      <td>92337700</td>\n",
       "    </tr>\n",
       "    <tr>\n",
       "      <th>...</th>\n",
       "      <td>...</td>\n",
       "      <td>...</td>\n",
       "      <td>...</td>\n",
       "      <td>...</td>\n",
       "      <td>...</td>\n",
       "      <td>...</td>\n",
       "      <td>...</td>\n",
       "    </tr>\n",
       "    <tr>\n",
       "      <th>1505</th>\n",
       "      <td>5/18/2020</td>\n",
       "      <td>313.170013</td>\n",
       "      <td>316.500000</td>\n",
       "      <td>310.320007</td>\n",
       "      <td>314.959991</td>\n",
       "      <td>314.959991</td>\n",
       "      <td>33843100</td>\n",
       "    </tr>\n",
       "    <tr>\n",
       "      <th>1506</th>\n",
       "      <td>5/19/2020</td>\n",
       "      <td>315.029999</td>\n",
       "      <td>318.519989</td>\n",
       "      <td>313.010010</td>\n",
       "      <td>313.140015</td>\n",
       "      <td>313.140015</td>\n",
       "      <td>25432400</td>\n",
       "    </tr>\n",
       "    <tr>\n",
       "      <th>1507</th>\n",
       "      <td>5/20/2020</td>\n",
       "      <td>316.679993</td>\n",
       "      <td>319.519989</td>\n",
       "      <td>316.519989</td>\n",
       "      <td>319.230011</td>\n",
       "      <td>319.230011</td>\n",
       "      <td>27876200</td>\n",
       "    </tr>\n",
       "    <tr>\n",
       "      <th>1508</th>\n",
       "      <td>5/21/2020</td>\n",
       "      <td>318.660004</td>\n",
       "      <td>320.890015</td>\n",
       "      <td>315.869995</td>\n",
       "      <td>316.850006</td>\n",
       "      <td>316.850006</td>\n",
       "      <td>25672200</td>\n",
       "    </tr>\n",
       "    <tr>\n",
       "      <th>1509</th>\n",
       "      <td>5/22/2020</td>\n",
       "      <td>315.769989</td>\n",
       "      <td>319.230011</td>\n",
       "      <td>315.350006</td>\n",
       "      <td>318.890015</td>\n",
       "      <td>318.890015</td>\n",
       "      <td>20430600</td>\n",
       "    </tr>\n",
       "  </tbody>\n",
       "</table>\n",
       "<p>1510 rows × 7 columns</p>\n",
       "</div>"
      ],
      "text/plain": [
       "           Date  Open Price  High Price   Low Price  Close Price  \\\n",
       "0     5/27/2014   87.982857   89.408569   87.947144    89.375717   \n",
       "1     5/28/2014   89.431427   89.975716   89.111427    89.144287   \n",
       "2     5/29/2014   89.692856   90.981430   89.681427    90.768570   \n",
       "3     5/30/2014   91.139999   92.024284   89.842857    90.428574   \n",
       "4      6/2/2014   90.565712   90.690002   88.928574    89.807144   \n",
       "...         ...         ...         ...         ...          ...   \n",
       "1505  5/18/2020  313.170013  316.500000  310.320007   314.959991   \n",
       "1506  5/19/2020  315.029999  318.519989  313.010010   313.140015   \n",
       "1507  5/20/2020  316.679993  319.519989  316.519989   319.230011   \n",
       "1508  5/21/2020  318.660004  320.890015  315.869995   316.850006   \n",
       "1509  5/22/2020  315.769989  319.230011  315.350006   318.890015   \n",
       "\n",
       "      Adj Close Price     Volume  \n",
       "0           80.948952   87216500  \n",
       "1           80.739334   78870400  \n",
       "2           82.210480   94118500  \n",
       "3           81.902557  141005200  \n",
       "4           81.339699   92337700  \n",
       "...               ...        ...  \n",
       "1505       314.959991   33843100  \n",
       "1506       313.140015   25432400  \n",
       "1507       319.230011   27876200  \n",
       "1508       316.850006   25672200  \n",
       "1509       318.890015   20430600  \n",
       "\n",
       "[1510 rows x 7 columns]"
      ]
     },
     "execution_count": 2,
     "metadata": {},
     "output_type": "execute_result"
    }
   ],
   "source": [
    "import pandas as pd\n",
    "\n",
    "# Load the stock data into a pandas dataframe\n",
    "df = pd.read_csv(\"stock.csv\")\n",
    "df"
   ]
  },
  {
   "cell_type": "markdown",
   "metadata": {},
   "source": [
    "There are a few general guidelines that can be followed to determine a suitable trimmed percentage:\n",
    "\n",
    "Examining the data: Before choosing a trimmed percentage, it is important to examine the distribution of the data. If the data has a skewed distribution with many outliers, then a higher trimmed percentage may be appropriate. If the data has a normal distribution with few outliers, then a lower trimmed percentage may be sufficient.\n",
    "\n",
    "Balancing bias and variance: The trimmed mean is a trade-off between reducing the bias of outliers and preserving the variability of the data. A higher trimmed percentage reduces the bias but reduces the variability of the data, while a lower trimmed percentage retains the variability but may not effectively remove outliers.\n",
    "\n",
    "Previous research: There may be established guidelines for a specific field or type of data. For example, in finance, a trimmed mean of 5% is commonly used for stock prices. It is always helpful to check relevant literature to see if there are any established guidelines.\n",
    "\n",
    "Testing multiple trimmed percentages: It may be useful to test multiple trimmed percentages to see which one provides the most meaningful representation of the data. For example, testing a trimmed mean of 5%, 10%, and 15% can provide a sense of how the choice of trimmed percentage affects the results.\n",
    "\n",
    "Ultimately, choosing a suitable trimmed percentage requires some trial and error and a careful consideration of the data and the purpose of the analysis.\n"
   ]
  },
  {
   "cell_type": "code",
   "execution_count": 10,
   "metadata": {},
   "outputs": [
    {
     "name": "stdout",
     "output_type": "stream",
     "text": [
      "Trimmed Mean:  153.47808682560705\n"
     ]
    }
   ],
   "source": [
    "trim_percentage = 0.05\n",
    "n = len(df)\n",
    "trimmed_mean = df[\"Close Price\"].sort_values()[int(n*trim_percentage):int(n*(1-trim_percentage))].mean()\n",
    "print(\"Trimmed Mean: \", trimmed_mean)"
   ]
  },
  {
   "cell_type": "code",
   "execution_count": 8,
   "metadata": {},
   "outputs": [
    {
     "data": {
      "text/plain": [
       "75.5"
      ]
     },
     "execution_count": 8,
     "metadata": {},
     "output_type": "execute_result"
    }
   ],
   "source": [
    "n = len(df)\n",
    "n*0.05"
   ]
  },
  {
   "cell_type": "code",
   "execution_count": 7,
   "metadata": {},
   "outputs": [
    {
     "data": {
      "text/plain": [
       "1434"
      ]
     },
     "execution_count": 7,
     "metadata": {},
     "output_type": "execute_result"
    }
   ],
   "source": [
    "int(n*(1-0.05))"
   ]
  },
  {
   "cell_type": "markdown",
   "metadata": {},
   "source": [
    "## WEIGHTED MEAN"
   ]
  },
  {
   "cell_type": "code",
   "execution_count": 30,
   "metadata": {},
   "outputs": [
    {
     "data": {
      "text/plain": [
       "5.4"
      ]
     },
     "execution_count": 30,
     "metadata": {},
     "output_type": "execute_result"
    }
   ],
   "source": [
    "def weighted(data):\n",
    "    w=0\n",
    "    s=0\n",
    "    for i in data:\n",
    "        w+=i[0]\n",
    "        s+=i[0]*i[1]\n",
    "    return s/w\n",
    "data=[[10,3],[60,5],[30,7]]\n",
    "weighted(data)\n",
    "        "
   ]
  },
  {
   "cell_type": "code",
   "execution_count": null,
   "metadata": {},
   "outputs": [],
   "source": []
  }
 ],
 "metadata": {
  "kernelspec": {
   "display_name": "Python 3",
   "language": "python",
   "name": "python3"
  },
  "language_info": {
   "codemirror_mode": {
    "name": "ipython",
    "version": 3
   },
   "file_extension": ".py",
   "mimetype": "text/x-python",
   "name": "python",
   "nbconvert_exporter": "python",
   "pygments_lexer": "ipython3",
   "version": "3.8.5"
  }
 },
 "nbformat": 4,
 "nbformat_minor": 4
}
