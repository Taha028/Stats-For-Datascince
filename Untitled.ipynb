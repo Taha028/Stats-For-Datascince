{
 "cells": [
  {
   "cell_type": "markdown",
   "metadata": {},
   "source": [
    "A spatial dataframe is a type of dataframe that includes geographic or spatial information, such as latitude and longitude coordinates, in addition to traditional data fields. Spatial dataframes are used for mapping and spatial analysis, allowing for the representation of data in a geographical context."
   ]
  },
  {
   "cell_type": "code",
   "execution_count": 1,
   "metadata": {},
   "outputs": [
    {
     "name": "stderr",
     "output_type": "stream",
     "text": [
      "/opt/anaconda3/lib/python3.8/site-packages/pandas/core/computation/expressions.py:20: UserWarning: Pandas requires version '2.7.3' or newer of 'numexpr' (version '2.7.1' currently installed).\n",
      "  from pandas.core.computation.check import NUMEXPR_INSTALLED\n"
     ]
    }
   ],
   "source": [
    "import geopandas as gpd\n",
    "\n",
    "# Define a dictionary with the data\n",
    "data = {'Place': ['San Francisco', 'New York City', 'London', 'Tokyo', 'Sydney'],\n",
    "        'Latitude': [37.7749, 40.7128, 51.5074, 35.6895, -33.8688],\n",
    "        'Longitude': [-122.4194, -74.0060, -0.1278, 139.6917, 151.2093]}\n"
   ]
  },
  {
   "cell_type": "code",
   "execution_count": 5,
   "metadata": {},
   "outputs": [
    {
     "data": {
      "text/html": [
       "<div>\n",
       "<style scoped>\n",
       "    .dataframe tbody tr th:only-of-type {\n",
       "        vertical-align: middle;\n",
       "    }\n",
       "\n",
       "    .dataframe tbody tr th {\n",
       "        vertical-align: top;\n",
       "    }\n",
       "\n",
       "    .dataframe thead th {\n",
       "        text-align: right;\n",
       "    }\n",
       "</style>\n",
       "<table border=\"1\" class=\"dataframe\">\n",
       "  <thead>\n",
       "    <tr style=\"text-align: right;\">\n",
       "      <th></th>\n",
       "      <th>Place</th>\n",
       "      <th>Latitude</th>\n",
       "      <th>Longitude</th>\n",
       "    </tr>\n",
       "  </thead>\n",
       "  <tbody>\n",
       "    <tr>\n",
       "      <th>0</th>\n",
       "      <td>San Francisco</td>\n",
       "      <td>37.7749</td>\n",
       "      <td>-122.4194</td>\n",
       "    </tr>\n",
       "    <tr>\n",
       "      <th>1</th>\n",
       "      <td>New York City</td>\n",
       "      <td>40.7128</td>\n",
       "      <td>-74.0060</td>\n",
       "    </tr>\n",
       "    <tr>\n",
       "      <th>2</th>\n",
       "      <td>London</td>\n",
       "      <td>51.5074</td>\n",
       "      <td>-0.1278</td>\n",
       "    </tr>\n",
       "    <tr>\n",
       "      <th>3</th>\n",
       "      <td>Tokyo</td>\n",
       "      <td>35.6895</td>\n",
       "      <td>139.6917</td>\n",
       "    </tr>\n",
       "    <tr>\n",
       "      <th>4</th>\n",
       "      <td>Sydney</td>\n",
       "      <td>-33.8688</td>\n",
       "      <td>151.2093</td>\n",
       "    </tr>\n",
       "  </tbody>\n",
       "</table>\n",
       "</div>"
      ],
      "text/plain": [
       "           Place  Latitude  Longitude\n",
       "0  San Francisco   37.7749  -122.4194\n",
       "1  New York City   40.7128   -74.0060\n",
       "2         London   51.5074    -0.1278\n",
       "3          Tokyo   35.6895   139.6917\n",
       "4         Sydney  -33.8688   151.2093"
      ]
     },
     "execution_count": 5,
     "metadata": {},
     "output_type": "execute_result"
    }
   ],
   "source": [
    "# Create a pandas dataframe from the dictionary\n",
    "import pandas as pd\n",
    "df = pd.DataFrame(data)\n",
    "df"
   ]
  },
  {
   "cell_type": "markdown",
   "metadata": {},
   "source": [
    "This code creates a pandas dataframe from a dictionary with the data, and then creates a geopandas dataframe by passing the pandas dataframe to the gpd.GeoDataFrame constructor. The gpd.points_from_xy function is used to create a Point geometry from the Longitude and Latitude columns in the pandas dataframe. The code also sets the crs (Coordinate Reference System) for the geopandas dataframe. Finally, the resulting dataframe is printed to verify that it has been created correctly."
   ]
  },
  {
   "cell_type": "code",
   "execution_count": 6,
   "metadata": {},
   "outputs": [
    {
     "name": "stdout",
     "output_type": "stream",
     "text": [
      "           Place  Latitude  Longitude                     geometry\n",
      "0  San Francisco   37.7749  -122.4194  POINT (-122.41940 37.77490)\n",
      "1  New York City   40.7128   -74.0060   POINT (-74.00600 40.71280)\n",
      "2         London   51.5074    -0.1278    POINT (-0.12780 51.50740)\n",
      "3          Tokyo   35.6895   139.6917   POINT (139.69170 35.68950)\n",
      "4         Sydney  -33.8688   151.2093  POINT (151.20930 -33.86880)\n"
     ]
    },
    {
     "name": "stderr",
     "output_type": "stream",
     "text": [
      "/opt/anaconda3/lib/python3.8/site-packages/pyproj/crs/crs.py:141: FutureWarning: '+init=<authority>:<code>' syntax is deprecated. '<authority>:<code>' is the preferred initialization method. When making the change, be mindful of axis order changes: https://pyproj4.github.io/pyproj/stable/gotchas.html#axis-order-changes-in-proj-6\n",
      "  in_crs_string = _prepare_from_proj_string(in_crs_string)\n"
     ]
    }
   ],
   "source": [
    "gdf = gpd.GeoDataFrame(df, geometry=gpd.points_from_xy(df.Longitude, df.Latitude))\n",
    "\n",
    "# Set the crs (Coordinate Reference System) for the geopandas dataframe\n",
    "gdf.crs = {'init': 'epsg:4326'}\n",
    "\n",
    "# Check the resulting dataframe\n",
    "print(gdf)"
   ]
  },
  {
   "cell_type": "code",
   "execution_count": null,
   "metadata": {},
   "outputs": [],
   "source": []
  }
 ],
 "metadata": {
  "kernelspec": {
   "display_name": "Python 3",
   "language": "python",
   "name": "python3"
  },
  "language_info": {
   "codemirror_mode": {
    "name": "ipython",
    "version": 3
   },
   "file_extension": ".py",
   "mimetype": "text/x-python",
   "name": "python",
   "nbconvert_exporter": "python",
   "pygments_lexer": "ipython3",
   "version": "3.8.5"
  }
 },
 "nbformat": 4,
 "nbformat_minor": 4
}
